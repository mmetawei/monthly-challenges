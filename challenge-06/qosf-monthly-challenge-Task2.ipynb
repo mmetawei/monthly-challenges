{
 "cells": [
  {
   "cell_type": "code",
   "execution_count": 43,
   "metadata": {},
   "outputs": [
    {
     "name": "stdout",
     "output_type": "stream",
     "text": [
      "[1]\n",
      "[2]\n",
      "[1 0 1]\n",
      "[0 1 1]\n"
     ]
    },
    {
     "data": {
      "image/png": "[encoded data removed]",
      "text/plain": [
       "<Figure size 261.177x626.08 with 1 Axes>"
      ]
     },
     "execution_count": 43,
     "metadata": {},
     "output_type": "execute_result"
    }
   ],
   "source": [
    "from qiskit import *\n",
    "import numpy as np\n",
    "from qiskit import QuantumCircuit, QuantumRegister, ClassicalRegister\n",
    "import matplotlib.pyplot as plt\n",
    "from qiskit.providers.ibmq import least_busy\n",
    "from qiskit.visualization import plot_histogram\n",
    "col = np.random.randint(1,3,size=1)\n",
    "row = np.random.randint(1,3,size=1)\n",
    "Alice_qubits = np.random.randint(2 ,size=3)\n",
    "Bob_qubits = np.random.randint(2,size=3)\n",
    "cb = ClassicalRegister(3, 'cb')\n",
    "q = QuantumRegister(9,\"q\")\n",
    "qc = QuantumCircuit(q,cb)\n",
    "print(row)\n",
    "print(col)\n",
    "print(Alice_qubits)\n",
    "print(Bob_qubits)\n",
    "if Alice_qubits[0] == 1:\n",
    "   qc.x(0)\n",
    "if Alice_qubits[1] == 1:\n",
    "   qc.x(1)\n",
    "if Alice_qubits[2] == 1:\n",
    "   qc.x(2)\n",
    "if Bob_qubits[0] == 1:\n",
    "   qc.x(3)\n",
    "if Bob_qubits[1] == 1:\n",
    "   qc.x(4)\n",
    "if Bob_qubits[2] == 1:\n",
    "   qc.x(5)\n",
    "qc.barrier()\n",
    "qc.draw('mpl')\n",
    "\n"
   ]
  },
  {
   "cell_type": "markdown",
   "metadata": {},
   "source": [
    "Based on the generated row and column values, we can create a different circuit to create entanglement between the shared tile in the game to avoid being the same.\n",
    "We have 1:1 --> shared tile is 1,1\n",
    "        1:2 --> shared tile is 1,2\n",
    "        1:3 --> shared tile is 1,3\n",
    "        Do you see a pattern here? Let's continue\n",
    "        2:1 --> shared tile is 2,1\n",
    "        2:2 --> shared tile is 2,2\n",
    "        2:3 --> shared tile is 2,3 ..etc.\n",
    "        3:1   3:2  3:3\n",
    "        I think we can conclude that we have to create entanglement between q[col-1] and q[row+2]"
   ]
  },
  {
   "cell_type": "code",
   "execution_count": 52,
   "metadata": {},
   "outputs": [
    {
     "ename": "TypeError",
     "evalue": "unsupported operand type(s) for *: 'Qubit' and 'Qubit'",
     "output_type": "error",
     "traceback": [
      "\u001b[1;31m---------------------------------------------------------------------------\u001b[0m",
      "\u001b[1;31mTypeError\u001b[0m                                 Traceback (most recent call last)",
      "\u001b[1;32m<ipython-input-52-6035843fb06d>\u001b[0m in \u001b[0;36m<module>\u001b[1;34m\u001b[0m\n\u001b[0;32m     16\u001b[0m \u001b[1;33m\u001b[0m\u001b[0m\n\u001b[0;32m     17\u001b[0m \u001b[0mqc\u001b[0m\u001b[1;33m.\u001b[0m\u001b[0mdraw\u001b[0m\u001b[1;33m(\u001b[0m\u001b[1;34m'mpl'\u001b[0m\u001b[1;33m)\u001b[0m\u001b[1;33m\u001b[0m\u001b[1;33m\u001b[0m\u001b[0m\n\u001b[1;32m---> 18\u001b[1;33m \u001b[0msimilarity\u001b[0m \u001b[1;33m=\u001b[0m \u001b[0mnp\u001b[0m\u001b[1;33m.\u001b[0m\u001b[0mdot\u001b[0m\u001b[1;33m(\u001b[0m\u001b[0mq\u001b[0m\u001b[1;33m[\u001b[0m\u001b[0mcol_index\u001b[0m\u001b[1;33m]\u001b[0m\u001b[1;33m,\u001b[0m\u001b[0mq\u001b[0m\u001b[1;33m[\u001b[0m\u001b[0mrow_index\u001b[0m\u001b[1;33m]\u001b[0m\u001b[1;33m)\u001b[0m\u001b[1;33m\u001b[0m\u001b[1;33m\u001b[0m\u001b[0m\n\u001b[0m\u001b[0;32m     19\u001b[0m \u001b[0mbackend\u001b[0m \u001b[1;33m=\u001b[0m \u001b[0mAer\u001b[0m\u001b[1;33m.\u001b[0m\u001b[0mget_backend\u001b[0m\u001b[1;33m(\u001b[0m\u001b[1;34m'qasm_simulator'\u001b[0m\u001b[1;33m)\u001b[0m\u001b[1;33m\u001b[0m\u001b[1;33m\u001b[0m\u001b[0m\n\u001b[0;32m     20\u001b[0m \u001b[0mjob\u001b[0m \u001b[1;33m=\u001b[0m \u001b[0mexecute\u001b[0m\u001b[1;33m(\u001b[0m\u001b[0mqc\u001b[0m\u001b[1;33m,\u001b[0m \u001b[0mbackend\u001b[0m\u001b[1;33m,\u001b[0m \u001b[0mshots\u001b[0m \u001b[1;33m=\u001b[0m \u001b[1;36m1024\u001b[0m\u001b[1;33m)\u001b[0m\u001b[1;33m\u001b[0m\u001b[1;33m\u001b[0m\u001b[0m\n",
      "\u001b[1;32m<__array_function__ internals>\u001b[0m in \u001b[0;36mdot\u001b[1;34m(*args, **kwargs)\u001b[0m\n",
      "\u001b[1;31mTypeError\u001b[0m: unsupported operand type(s) for *: 'Qubit' and 'Qubit'"
     ]
    }
   ],
   "source": [
    "#To ensure that the shared tile will have a repeated number\n",
    "#, we will create an entaglement between them to create the state |00> + |11> /sqrt(2)\n",
    "col_index = col[0] - 1\n",
    "row_index = row[0] + 2\n",
    "qc.h(q[col_index])\n",
    "qc.cx(q[col_index],q[row_index])\n",
    "qc.barrier()\n",
    "qc.draw('mpl')\n",
    "#Alice Sum\n",
    "qc.ccx(0, 1, 2)\n",
    "qc.measure(2,cb[0])\n",
    "\n",
    "#Bob Sum\n",
    "qc.ccx(3, 4, 5)\n",
    "qc.measure(5,cb[1])\n",
    "\n",
    "qc.draw('mpl')\n",
    "similarity = np.dot(q[col_index],q[row_index])\n",
    "backend = Aer.get_backend('qasm_simulator')\n",
    "job = execute(qc, backend, shots = 1024)\n",
    "result = job.result()\n",
    "counts = result.get_counts()\n",
    "print(counts)\n",
    "\n",
    "plot_histogram(counts)"
   ]
  },
  {
   "cell_type": "code",
   "execution_count": null,
   "metadata": {},
   "outputs": [],
   "source": []
  },
  {
   "cell_type": "code",
   "execution_count": null,
   "metadata": {},
   "outputs": [],
   "source": []
  },
  {
   "cell_type": "code",
   "execution_count": null,
   "metadata": {},
   "outputs": [],
   "source": []
  },
  {
   "cell_type": "code",
   "execution_count": null,
   "metadata": {},
   "outputs": [],
   "source": []
  },
  {
   "cell_type": "code",
   "execution_count": null,
   "metadata": {},
   "outputs": [],
   "source": []
  }
 ],
 "metadata": {
  "kernelspec": {
   "display_name": "Python 3",
   "language": "python",
   "name": "python3"
  },
  "language_info": {
   "codemirror_mode": {
    "name": "ipython",
    "version": 3
   },
   "file_extension": ".py",
   "mimetype": "text/x-python",
   "name": "python",
   "nbconvert_exporter": "python",
   "pygments_lexer": "ipython3",
   "version": "3.8.5"
  }
 },
 "nbformat": 4,
 "nbformat_minor": 4
}
