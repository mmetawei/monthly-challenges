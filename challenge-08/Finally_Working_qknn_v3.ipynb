{
 "cells": [
  {
   "cell_type": "code",
   "execution_count": 13,
   "id": "7e0f524c",
   "metadata": {},
   "outputs": [],
   "source": [
    "import pennylane as qml\n",
    "from pennylane import numpy as np\n",
    "from pennylane.templates.embeddings import AmplitudeEmbedding\n",
    "from sklearn.datasets import load_digits # import MNIST data set\n",
    "from sklearn.utils import shuffle\n",
    "from sklearn.preprocessing import normalize ,OneHotEncoder # import a normilisation function\n",
    "from sklearn.model_selection import train_test_split\n",
    "import torch\n",
    "from torchvision import datasets, transforms\n"
   ]
  },
  {
   "cell_type": "code",
   "execution_count": 14,
   "id": "404fbc54",
   "metadata": {},
   "outputs": [
    {
     "name": "stderr",
     "output_type": "stream",
     "text": [
      "<ipython-input-14-4b4076c2e2a0>:32: UserWarning: To copy construct from a tensor, it is recommended to use sourceTensor.clone().detach() or sourceTensor.clone().detach().requires_grad_(True), rather than torch.tensor(sourceTensor).\n",
      "  outputs = torch.tensor(data).flatten(0)\n"
     ]
    }
   ],
   "source": [
    "np.random.seed(42) # set a seed\n",
    "dev = qml.device('default.qubit', wires=13,shots=1000)\n",
    "#prepare_state was useful to correct a QubitStateVector error\n",
    "@qml.qnode(dev)\n",
    "def prepare_state(input):\n",
    "    for k in range(0,5):\n",
    "        qml.QubitStateVector(input[k], wires=k)\n",
    "    for l in range(6, 12):\n",
    "        qml.QubitStateVector(input[l-6], wires=l)\n",
    "    return qml.state()\n",
    "#Making the Encoding and the dot product\n",
    "def qknn(f=None, test=None, k_val=None):\n",
    "    #prepare_state(X)\n",
    "    for k in range(0,5):\n",
    "        qml.QubitStateVector(f[k], wires=k)\n",
    "    for l in range(6, 12):\n",
    "        qml.QubitStateVector(test[l-6], wires=l)\n",
    "    qml.templates.AmplitudeEmbedding(f, wires=range(0,6),normalize=True)\n",
    "    qml.templates.AmplitudeEmbedding(test, wires=range(6,12),normalize=True)\n",
    "    qml.Hadamard(wires=13) # This shall be the output\n",
    "    for x in range(0,k_val):\n",
    "        qml.CSWAP(wires=[13, x, x+6]) #control=13, target1, target2\n",
    "    qml.Hadamard(wires=13) # This shall be the output\n",
    "    out = qml.expval(qml.PauliZ(13))\n",
    "    return out\n",
    "    \n",
    "\n",
    "X = load_digits(n_class=2,return_X_y=False)\n",
    "#print(X)\n",
    "data = torch.tensor(X.data, dtype = torch.int) \n",
    "# Convert numpy array to tensor \n",
    "outputs = torch.tensor(data).flatten(0)\n",
    "\n",
    "total_records = 100 \n",
    "test_records = int(total_records * .2) \n",
    "train_data = data[:total_records-test_records] \n",
    "test_data = data[total_records-test_records:total_records]\n",
    "#print(len(train_data))\n",
    "#print(len(test_data))\n"
   ]
  },
  {
   "cell_type": "code",
   "execution_count": 15,
   "id": "0666ea7f",
   "metadata": {},
   "outputs": [
    {
     "name": "stdout",
     "output_type": "stream",
     "text": [
      "expval(PauliZ(wires=[13]))\n",
      "expval(PauliZ(wires=[13]))\n",
      "expval(PauliZ(wires=[13]))\n",
      "expval(PauliZ(wires=[13]))\n"
     ]
    }
   ],
   "source": [
    "k_values = [1, 3, 5, 7]\n",
    "prob = []\n",
    "\n",
    "for k_val in k_values:\n",
    "    out = qknn(train_data[0], test_data[0], k_val)\n",
    "    prob.append(out)\n",
    "    print(out)\n"
   ]
  },
  {
   "cell_type": "code",
   "execution_count": null,
   "id": "770c2664",
   "metadata": {},
   "outputs": [],
   "source": []
  },
  {
   "cell_type": "code",
   "execution_count": null,
   "id": "bef9710e",
   "metadata": {},
   "outputs": [],
   "source": []
  }
 ],
 "metadata": {
  "kernelspec": {
   "display_name": "Python 3",
   "language": "python",
   "name": "python3"
  },
  "language_info": {
   "codemirror_mode": {
    "name": "ipython",
    "version": 3
   },
   "file_extension": ".py",
   "mimetype": "text/x-python",
   "name": "python",
   "nbconvert_exporter": "python",
   "pygments_lexer": "ipython3",
   "version": "3.9.5"
  }
 },
 "nbformat": 4,
 "nbformat_minor": 5
}
