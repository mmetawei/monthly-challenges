{
 "cells": [
  {
   "cell_type": "code",
   "execution_count": 21,
   "id": "99d7abdd",
   "metadata": {},
   "outputs": [],
   "source": [
    "import pennylane as qml\n",
    "from pennylane import numpy as np\n",
    "from pennylane.templates.state_preparations import MottonenStatePreparation\n",
    "from sklearn.datasets import load_digits # import MNIST data set\n",
    "from sklearn.utils import shuffle\n",
    "from sklearn.preprocessing import normalize ,OneHotEncoder # import a normilisation function\n",
    "from sklearn.model_selection import train_test_split\n",
    "import torch\n",
    "from torchvision import datasets, transforms"
   ]
  },
  {
   "cell_type": "code",
   "execution_count": 22,
   "id": "6344e7b3",
   "metadata": {},
   "outputs": [],
   "source": [
    "dev = qml.device(\"default.qubit\", wires=13, shots=1000)\n",
    "@qml.qnode(dev)\n",
    "def qknn(f=None, test=None, k_val=None):\n",
    "    #prepare_state(X)\n",
    "    #qml.QubitStateVector(f, wires=list(range(0,6)))\n",
    "    #qml.QubitStateVector(test, wires=list(range(6,12)))\n",
    "    norm_f = np.linalg.norm(f)\n",
    "    n_f = f/norm_f\n",
    "    norm_t = np.linalg.norm(test)\n",
    "    n_t = test/norm_t\n",
    "    qml.templates.MottonenStatePreparation(n_f, wires=range(0,6))\n",
    "    qml.templates.MottonenStatePreparation(n_t, wires=range(6,12))\n",
    "    qml.Hadamard(wires=12) # This shall be the output\n",
    "    for x in range(0, 6):\n",
    "        qml.CSWAP(wires=[12, x, x+6]) #control=12, target1, target2\n",
    "    qml.Hadamard(wires=12) # This shall be the output\n",
    "    match = [qml.expval(qml.PauliZ(12))]\n",
    "    return match\n",
    "\n",
    "X, y = load_digits(n_class=2,return_X_y=True)\n",
    "#print(X)\n",
    "#data = torch.tensor(X.data, dtype = torch.int) \n",
    "# Convert numpy array to tensor \n",
    "#outputs = torch.tensor(data).flatten(0)\n",
    "# Now split them\n",
    "X_train, X_test, y_train, y_test = train_test_split(\n",
    "    X, y, train_size=50, test_size=10, shuffle=True)\n",
    "#total_records = 100 \n",
    "#test_records = int(total_records * .2) \n",
    "#train_data = data[:total_records-test_records] \n",
    "#test_data = data[total_records-test_records:total_records]\n",
    "#print(y_test)\n",
    "#print(len(test_data[0]))\n",
    "#print(len(train_data[0]))"
   ]
  },
  {
   "cell_type": "code",
   "execution_count": 23,
   "id": "1d1d4c6a",
   "metadata": {},
   "outputs": [
    {
     "name": "stdout",
     "output_type": "stream",
     "text": [
      "206\n",
      "Test Accuracy:  % 58.8\n"
     ]
    }
   ],
   "source": [
    "k_values = [1, 3, 5, 7]\n",
    "prob = []\n",
    "wrong_prediction = 0\n",
    "n_samples = 50\n",
    "n_test = 10\n",
    "nearest_k = [0]\n",
    "for t in range(0, n_test):\n",
    "    for iteration in range(0, n_samples):\n",
    "        for k_val in k_values:\n",
    "            out = qknn(X_train[iteration], X_test[t], k_val)\n",
    "            prob.append(out)\n",
    "            if np.rint(out) == 1.0:\n",
    "                if ((out > 0.7) and (len(nearest_k) < k_val)):\n",
    "                    nearest_k.append(out)\n",
    "                    #print(y_test[t], y_train[iteration])\n",
    "                    #print(out)\n",
    "                if y_test[t]!= y_train[iteration]:\n",
    "                    wrong_prediction +=1\n",
    "                    #print(\"Matched!\")\n",
    "                    #print(y_test[iteration], y_train[iteration])\n",
    "                    #print(out)\n",
    "            elif np.rint(out) == 0.0 :\n",
    "            \n",
    "                if y_test[t]== y_train[iteration]:\n",
    "                    wrong_prediction +=1\n",
    "                    #print(\"No Match\")\n",
    "                    #print(y_test[iteration], y_train[iteration])\n",
    "                    #print(out)\n",
    "            nearest_k = [0]\n",
    "                \n",
    "accuracy = ((n_samples * n_test) - wrong_prediction) * 100/ (n_samples * n_test)\n",
    "print(wrong_prediction)\n",
    "print(\"Test Accuracy:  %\", accuracy)\n",
    "        "
   ]
  },
  {
   "cell_type": "code",
   "execution_count": 24,
   "id": "29ce2553",
   "metadata": {},
   "outputs": [
    {
     "data": {
      "text/plain": [
       "0.0"
      ]
     },
     "execution_count": 24,
     "metadata": {},
     "output_type": "execute_result"
    }
   ],
   "source": [
    "np.rint(0.23)"
   ]
  },
  {
   "cell_type": "code",
   "execution_count": null,
   "id": "344254da",
   "metadata": {},
   "outputs": [],
   "source": []
  },
  {
   "cell_type": "code",
   "execution_count": null,
   "id": "b9b288a4",
   "metadata": {},
   "outputs": [],
   "source": []
  }
 ],
 "metadata": {
  "kernelspec": {
   "display_name": "Python 3",
   "language": "python",
   "name": "python3"
  },
  "language_info": {
   "codemirror_mode": {
    "name": "ipython",
    "version": 3
   },
   "file_extension": ".py",
   "mimetype": "text/x-python",
   "name": "python",
   "nbconvert_exporter": "python",
   "pygments_lexer": "ipython3",
   "version": "3.9.5"
  }
 },
 "nbformat": 4,
 "nbformat_minor": 5
}
